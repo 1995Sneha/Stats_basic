{
 "cells": [
  {
   "cell_type": "code",
   "execution_count": 1,
   "id": "96b32044",
   "metadata": {
    "ExecuteTime": {
     "end_time": "2022-11-24T19:11:45.229498Z",
     "start_time": "2022-11-24T19:11:38.476239Z"
    }
   },
   "outputs": [],
   "source": [
    "import pandas as pd\n",
    "import statistics \n",
    "import warnings\n",
    "import numpy as np\n",
    "warnings.filterwarnings('ignore')"
   ]
  },
  {
   "cell_type": "markdown",
   "id": "136261cd",
   "metadata": {},
   "source": [
    "# Q7 Calculate Mean, Median, Mode, Variance, Standard Deviation, Range &     comment about the values / draw inferences"
   ]
  },
  {
   "cell_type": "code",
   "execution_count": 5,
   "id": "cda2f3bc",
   "metadata": {
    "ExecuteTime": {
     "end_time": "2022-11-10T08:01:15.408136Z",
     "start_time": "2022-11-10T08:01:15.348932Z"
    }
   },
   "outputs": [],
   "source": [
    "df = pd.read_csv(\"Q7.csv\")"
   ]
  },
  {
   "cell_type": "code",
   "execution_count": 6,
   "id": "e337e25c",
   "metadata": {
    "ExecuteTime": {
     "end_time": "2022-11-10T08:01:15.439722Z",
     "start_time": "2022-11-10T08:01:15.410447Z"
    }
   },
   "outputs": [
    {
     "data": {
      "text/plain": [
       "Points     3.60\n",
       "Score      3.22\n",
       "Weigh     17.85\n",
       "dtype: float64"
      ]
     },
     "execution_count": 6,
     "metadata": {},
     "output_type": "execute_result"
    }
   ],
   "source": [
    "df.mean().round(2)"
   ]
  },
  {
   "cell_type": "code",
   "execution_count": 7,
   "id": "0064fcbc",
   "metadata": {
    "ExecuteTime": {
     "end_time": "2022-11-10T08:01:15.469612Z",
     "start_time": "2022-11-10T08:01:15.446726Z"
    }
   },
   "outputs": [
    {
     "data": {
      "text/plain": [
       "Points     3.70\n",
       "Score      3.32\n",
       "Weigh     17.71\n",
       "dtype: float64"
      ]
     },
     "execution_count": 7,
     "metadata": {},
     "output_type": "execute_result"
    }
   ],
   "source": [
    "df.median().round(2)"
   ]
  },
  {
   "cell_type": "code",
   "execution_count": 8,
   "id": "adfe78b1",
   "metadata": {
    "ExecuteTime": {
     "end_time": "2022-11-10T08:01:15.500317Z",
     "start_time": "2022-11-10T08:01:15.473978Z"
    }
   },
   "outputs": [
    {
     "data": {
      "text/plain": [
       "3.92"
      ]
     },
     "execution_count": 8,
     "metadata": {},
     "output_type": "execute_result"
    }
   ],
   "source": [
    "statistics.mode(df['Points'])"
   ]
  },
  {
   "cell_type": "code",
   "execution_count": 9,
   "id": "98480f23",
   "metadata": {
    "ExecuteTime": {
     "end_time": "2022-11-10T08:01:15.532439Z",
     "start_time": "2022-11-10T08:01:15.505302Z"
    }
   },
   "outputs": [
    {
     "data": {
      "text/plain": [
       "3.44"
      ]
     },
     "execution_count": 9,
     "metadata": {},
     "output_type": "execute_result"
    }
   ],
   "source": [
    "statistics.mode(df['Score'])"
   ]
  },
  {
   "cell_type": "code",
   "execution_count": 10,
   "id": "22a63561",
   "metadata": {
    "ExecuteTime": {
     "end_time": "2022-11-10T08:01:15.562838Z",
     "start_time": "2022-11-10T08:01:15.537906Z"
    }
   },
   "outputs": [
    {
     "data": {
      "text/plain": [
       "17.02"
      ]
     },
     "execution_count": 10,
     "metadata": {},
     "output_type": "execute_result"
    }
   ],
   "source": [
    "statistics.mode(df['Weigh'])"
   ]
  },
  {
   "cell_type": "code",
   "execution_count": 11,
   "id": "5294904a",
   "metadata": {
    "ExecuteTime": {
     "end_time": "2022-11-10T08:01:15.594523Z",
     "start_time": "2022-11-10T08:01:15.566829Z"
    }
   },
   "outputs": [
    {
     "data": {
      "text/plain": [
       "Points    0.29\n",
       "Score     0.96\n",
       "Weigh     3.19\n",
       "dtype: float64"
      ]
     },
     "execution_count": 11,
     "metadata": {},
     "output_type": "execute_result"
    }
   ],
   "source": [
    "df.var().round(2)"
   ]
  },
  {
   "cell_type": "code",
   "execution_count": 12,
   "id": "89bd52b6",
   "metadata": {
    "ExecuteTime": {
     "end_time": "2022-11-10T08:01:15.625504Z",
     "start_time": "2022-11-10T08:01:15.599405Z"
    }
   },
   "outputs": [
    {
     "data": {
      "text/plain": [
       "Points    0.53\n",
       "Score     0.98\n",
       "Weigh     1.79\n",
       "dtype: float64"
      ]
     },
     "execution_count": 12,
     "metadata": {},
     "output_type": "execute_result"
    }
   ],
   "source": [
    "df.std().round(2)"
   ]
  },
  {
   "cell_type": "code",
   "execution_count": 13,
   "id": "dc6ba03b",
   "metadata": {
    "ExecuteTime": {
     "end_time": "2022-11-10T08:01:15.657153Z",
     "start_time": "2022-11-10T08:01:15.634884Z"
    }
   },
   "outputs": [
    {
     "data": {
      "text/plain": [
       "2.17"
      ]
     },
     "execution_count": 13,
     "metadata": {},
     "output_type": "execute_result"
    }
   ],
   "source": [
    "a = df['Points'].max()\n",
    "b = df['Points'].min()\n",
    "range_points = a - b\n",
    "range_points"
   ]
  },
  {
   "cell_type": "code",
   "execution_count": 14,
   "id": "7c8c0a6f",
   "metadata": {
    "ExecuteTime": {
     "end_time": "2022-11-10T08:01:15.688426Z",
     "start_time": "2022-11-10T08:01:15.662954Z"
    }
   },
   "outputs": [
    {
     "data": {
      "text/plain": [
       "3.9110000000000005"
      ]
     },
     "execution_count": 14,
     "metadata": {},
     "output_type": "execute_result"
    }
   ],
   "source": [
    "a = df['Score'].max()\n",
    "b = df['Score'].min()\n",
    "range_Score = a - b\n",
    "range_Score"
   ]
  },
  {
   "cell_type": "code",
   "execution_count": 15,
   "id": "68dc4e46",
   "metadata": {
    "ExecuteTime": {
     "end_time": "2022-11-10T08:01:15.718867Z",
     "start_time": "2022-11-10T08:01:15.692352Z"
    }
   },
   "outputs": [
    {
     "data": {
      "text/plain": [
       "8.399999999999999"
      ]
     },
     "execution_count": 15,
     "metadata": {},
     "output_type": "execute_result"
    }
   ],
   "source": [
    "a = df['Weigh'].max()\n",
    "b = df['Weigh'].min()\n",
    "range_Weigh = a - b\n",
    "range_Weigh "
   ]
  },
  {
   "cell_type": "markdown",
   "id": "f70b59b4",
   "metadata": {},
   "source": [
    "# Q9 Calculate Skewness, Kurtosis & draw inferences on the following data\n",
    "      Cars speed and distance \n"
   ]
  },
  {
   "cell_type": "code",
   "execution_count": 16,
   "id": "f009b832",
   "metadata": {
    "ExecuteTime": {
     "end_time": "2022-11-10T08:01:21.708619Z",
     "start_time": "2022-11-10T08:01:15.721862Z"
    }
   },
   "outputs": [],
   "source": [
    "import matplotlib.pyplot as plt\n",
    "import seaborn as sns"
   ]
  },
  {
   "cell_type": "code",
   "execution_count": 17,
   "id": "da5864db",
   "metadata": {
    "ExecuteTime": {
     "end_time": "2022-11-10T08:01:21.739971Z",
     "start_time": "2022-11-10T08:01:21.713022Z"
    }
   },
   "outputs": [],
   "source": [
    "dk = pd.read_csv('Q9_a.csv')"
   ]
  },
  {
   "cell_type": "code",
   "execution_count": 18,
   "id": "c3b9fcfb",
   "metadata": {
    "ExecuteTime": {
     "end_time": "2022-11-10T08:01:21.755925Z",
     "start_time": "2022-11-10T08:01:21.742955Z"
    }
   },
   "outputs": [
    {
     "data": {
      "text/plain": [
       "Index    0.000000\n",
       "speed   -0.117510\n",
       "dist     0.806895\n",
       "dtype: float64"
      ]
     },
     "execution_count": 18,
     "metadata": {},
     "output_type": "execute_result"
    }
   ],
   "source": [
    "dk.skew()"
   ]
  },
  {
   "cell_type": "code",
   "execution_count": 19,
   "id": "ad49fef5",
   "metadata": {
    "ExecuteTime": {
     "end_time": "2022-11-10T08:01:21.771965Z",
     "start_time": "2022-11-10T08:01:21.761153Z"
    }
   },
   "outputs": [
    {
     "data": {
      "text/plain": [
       "Index   -1.200000\n",
       "speed   -0.508994\n",
       "dist     0.405053\n",
       "dtype: float64"
      ]
     },
     "execution_count": 19,
     "metadata": {},
     "output_type": "execute_result"
    }
   ],
   "source": [
    "dk.kurtosis()"
   ]
  },
  {
   "cell_type": "code",
   "execution_count": 20,
   "id": "32615475",
   "metadata": {
    "ExecuteTime": {
     "end_time": "2022-11-10T08:01:21.787971Z",
     "start_time": "2022-11-10T08:01:21.773960Z"
    }
   },
   "outputs": [],
   "source": [
    "dj = pd.read_csv('Q9_b.csv')"
   ]
  },
  {
   "cell_type": "code",
   "execution_count": 21,
   "id": "a3e6a265",
   "metadata": {
    "ExecuteTime": {
     "end_time": "2022-11-10T08:01:21.803959Z",
     "start_time": "2022-11-10T08:01:21.789968Z"
    }
   },
   "outputs": [
    {
     "data": {
      "text/plain": [
       "Unnamed: 0    0.000000\n",
       "SP            1.611450\n",
       "WT           -0.614753\n",
       "dtype: float64"
      ]
     },
     "execution_count": 21,
     "metadata": {},
     "output_type": "execute_result"
    }
   ],
   "source": [
    "dj.skew()"
   ]
  },
  {
   "cell_type": "code",
   "execution_count": 22,
   "id": "7a6de4b8",
   "metadata": {
    "ExecuteTime": {
     "end_time": "2022-11-10T08:01:21.819428Z",
     "start_time": "2022-11-10T08:01:21.806454Z"
    }
   },
   "outputs": [
    {
     "data": {
      "text/plain": [
       "Unnamed: 0   -1.200000\n",
       "SP            2.977329\n",
       "WT            0.950291\n",
       "dtype: float64"
      ]
     },
     "execution_count": 22,
     "metadata": {},
     "output_type": "execute_result"
    }
   ],
   "source": [
    "dj.kurtosis()"
   ]
  },
  {
   "cell_type": "markdown",
   "id": "b8605396",
   "metadata": {},
   "source": [
    "# Q11)  Suppose we want to estimate the average weight of an adult male in    Mexico. We draw a random sample of 2,000 men from a population of 3,000,000 men and weigh them. We find that the average person in our sample weighs 200 pounds, and the standard deviation of the sample is 30 pounds. Calculate 94%,98%,96% confidence interval?"
   ]
  },
  {
   "cell_type": "code",
   "execution_count": 7,
   "id": "b0b8f708",
   "metadata": {
    "ExecuteTime": {
     "end_time": "2022-11-24T19:15:27.354342Z",
     "start_time": "2022-11-24T19:15:21.494083Z"
    }
   },
   "outputs": [],
   "source": [
    "from scipy import stats"
   ]
  },
  {
   "cell_type": "code",
   "execution_count": 8,
   "id": "59b9e091",
   "metadata": {
    "ExecuteTime": {
     "end_time": "2022-11-22T17:33:50.628726Z",
     "start_time": "2022-11-22T17:33:50.616615Z"
    }
   },
   "outputs": [
    {
     "data": {
      "text/plain": [
       "(143.54415570565965, 256.45584429434035)"
      ]
     },
     "execution_count": 8,
     "metadata": {},
     "output_type": "execute_result"
    }
   ],
   "source": [
    "cl94 = stats.t.interval(0.94, df = 1999, loc = 200, scale = 30)\n",
    "cl94"
   ]
  },
  {
   "cell_type": "code",
   "execution_count": 4,
   "id": "36cc1076",
   "metadata": {
    "ExecuteTime": {
     "end_time": "2022-11-22T17:21:20.522960Z",
     "start_time": "2022-11-22T17:21:20.514910Z"
    }
   },
   "outputs": [
    {
     "data": {
      "text/plain": [
       "(130.15355671679083, 269.84644328320917)"
      ]
     },
     "execution_count": 4,
     "metadata": {},
     "output_type": "execute_result"
    }
   ],
   "source": [
    "cl98 = stats.t.interval(0.98, df = 1999, loc = 200, scale = 30)\n",
    "cl98"
   ]
  },
  {
   "cell_type": "code",
   "execution_count": 5,
   "id": "be721966",
   "metadata": {
    "ExecuteTime": {
     "end_time": "2022-11-22T17:21:45.302419Z",
     "start_time": "2022-11-22T17:21:45.288056Z"
    }
   },
   "outputs": [
    {
     "data": {
      "text/plain": [
       "(138.34730111522666, 261.6526988847733)"
      ]
     },
     "execution_count": 5,
     "metadata": {},
     "output_type": "execute_result"
    }
   ],
   "source": [
    "cl96 = stats.t.interval(0.96, df = 1999, loc = 200, scale = 30)\n",
    "cl96"
   ]
  },
  {
   "cell_type": "markdown",
   "id": "94b56fad",
   "metadata": {},
   "source": [
    "# Q12)  Below are the scores obtained by a student in tests \n",
    "34,36,36,38,38,39,39,40,40,41,41,41,41,42,42,45,49,56\n"
   ]
  },
  {
   "cell_type": "code",
   "execution_count": 23,
   "id": "79e270c8",
   "metadata": {
    "ExecuteTime": {
     "end_time": "2022-11-10T08:01:21.835500Z",
     "start_time": "2022-11-10T08:01:21.821425Z"
    }
   },
   "outputs": [],
   "source": [
    "import numpy as np"
   ]
  },
  {
   "cell_type": "code",
   "execution_count": 24,
   "id": "dcff9aea",
   "metadata": {
    "ExecuteTime": {
     "end_time": "2022-11-10T08:01:21.850722Z",
     "start_time": "2022-11-10T08:01:21.838495Z"
    }
   },
   "outputs": [],
   "source": [
    "z = [34,36,36,38,38,39,39,40,40,41,41,41,41,42,42,45,49,56]"
   ]
  },
  {
   "cell_type": "code",
   "execution_count": 25,
   "id": "04b32709",
   "metadata": {
    "ExecuteTime": {
     "end_time": "2022-11-10T08:01:21.866048Z",
     "start_time": "2022-11-10T08:01:21.852479Z"
    }
   },
   "outputs": [
    {
     "data": {
      "text/plain": [
       "list"
      ]
     },
     "execution_count": 25,
     "metadata": {},
     "output_type": "execute_result"
    }
   ],
   "source": [
    "type(z)"
   ]
  },
  {
   "cell_type": "code",
   "execution_count": 26,
   "id": "c7fdcae8",
   "metadata": {
    "ExecuteTime": {
     "end_time": "2022-11-10T08:01:21.882153Z",
     "start_time": "2022-11-10T08:01:21.870038Z"
    }
   },
   "outputs": [
    {
     "data": {
      "text/plain": [
       "41.0"
      ]
     },
     "execution_count": 26,
     "metadata": {},
     "output_type": "execute_result"
    }
   ],
   "source": [
    "np.mean(z)"
   ]
  },
  {
   "cell_type": "code",
   "execution_count": 27,
   "id": "ebf268e9",
   "metadata": {
    "ExecuteTime": {
     "end_time": "2022-11-10T08:01:21.897288Z",
     "start_time": "2022-11-10T08:01:21.884194Z"
    }
   },
   "outputs": [
    {
     "data": {
      "text/plain": [
       "40.5"
      ]
     },
     "execution_count": 27,
     "metadata": {},
     "output_type": "execute_result"
    }
   ],
   "source": [
    "np.median(z)"
   ]
  },
  {
   "cell_type": "code",
   "execution_count": 28,
   "id": "1e9b169d",
   "metadata": {
    "ExecuteTime": {
     "end_time": "2022-11-10T08:01:21.913344Z",
     "start_time": "2022-11-10T08:01:21.899389Z"
    }
   },
   "outputs": [
    {
     "data": {
      "text/plain": [
       "24.11111111111111"
      ]
     },
     "execution_count": 28,
     "metadata": {},
     "output_type": "execute_result"
    }
   ],
   "source": [
    "np.var(z)"
   ]
  },
  {
   "cell_type": "code",
   "execution_count": 29,
   "id": "19ac5f52",
   "metadata": {
    "ExecuteTime": {
     "end_time": "2022-11-10T08:01:21.928138Z",
     "start_time": "2022-11-10T08:01:21.916225Z"
    }
   },
   "outputs": [
    {
     "data": {
      "text/plain": [
       "4.910306620885412"
      ]
     },
     "execution_count": 29,
     "metadata": {},
     "output_type": "execute_result"
    }
   ],
   "source": [
    "np.std(z)  "
   ]
  },
  {
   "cell_type": "markdown",
   "id": "1a472584",
   "metadata": {},
   "source": [
    "# Q 20)"
   ]
  },
  {
   "cell_type": "code",
   "execution_count": 10,
   "id": "5f1660e4",
   "metadata": {
    "ExecuteTime": {
     "end_time": "2022-11-22T17:54:03.776398Z",
     "start_time": "2022-11-22T17:54:03.755314Z"
    }
   },
   "outputs": [],
   "source": [
    "car = pd.read_csv(\"C:\\\\Users\\\\sneha\\\\Cars.csv\")"
   ]
  },
  {
   "cell_type": "code",
   "execution_count": 11,
   "id": "64cae242",
   "metadata": {
    "ExecuteTime": {
     "end_time": "2022-11-22T17:54:11.040142Z",
     "start_time": "2022-11-22T17:54:11.009827Z"
    }
   },
   "outputs": [
    {
     "data": {
      "text/html": [
       "<div>\n",
       "<style scoped>\n",
       "    .dataframe tbody tr th:only-of-type {\n",
       "        vertical-align: middle;\n",
       "    }\n",
       "\n",
       "    .dataframe tbody tr th {\n",
       "        vertical-align: top;\n",
       "    }\n",
       "\n",
       "    .dataframe thead th {\n",
       "        text-align: right;\n",
       "    }\n",
       "</style>\n",
       "<table border=\"1\" class=\"dataframe\">\n",
       "  <thead>\n",
       "    <tr style=\"text-align: right;\">\n",
       "      <th></th>\n",
       "      <th>HP</th>\n",
       "      <th>MPG</th>\n",
       "      <th>VOL</th>\n",
       "      <th>SP</th>\n",
       "      <th>WT</th>\n",
       "    </tr>\n",
       "  </thead>\n",
       "  <tbody>\n",
       "    <tr>\n",
       "      <th>0</th>\n",
       "      <td>49</td>\n",
       "      <td>53.700681</td>\n",
       "      <td>89</td>\n",
       "      <td>104.185353</td>\n",
       "      <td>28.762059</td>\n",
       "    </tr>\n",
       "    <tr>\n",
       "      <th>1</th>\n",
       "      <td>55</td>\n",
       "      <td>50.013401</td>\n",
       "      <td>92</td>\n",
       "      <td>105.461264</td>\n",
       "      <td>30.466833</td>\n",
       "    </tr>\n",
       "    <tr>\n",
       "      <th>2</th>\n",
       "      <td>55</td>\n",
       "      <td>50.013401</td>\n",
       "      <td>92</td>\n",
       "      <td>105.461264</td>\n",
       "      <td>30.193597</td>\n",
       "    </tr>\n",
       "  </tbody>\n",
       "</table>\n",
       "</div>"
      ],
      "text/plain": [
       "   HP        MPG  VOL          SP         WT\n",
       "0  49  53.700681   89  104.185353  28.762059\n",
       "1  55  50.013401   92  105.461264  30.466833\n",
       "2  55  50.013401   92  105.461264  30.193597"
      ]
     },
     "execution_count": 11,
     "metadata": {},
     "output_type": "execute_result"
    }
   ],
   "source": [
    "car.head(3)"
   ]
  },
  {
   "cell_type": "code",
   "execution_count": 15,
   "id": "c54c0176",
   "metadata": {
    "ExecuteTime": {
     "end_time": "2022-11-22T17:57:41.433769Z",
     "start_time": "2022-11-22T17:57:41.414707Z"
    }
   },
   "outputs": [
    {
     "data": {
      "text/plain": [
       "34.422075728024666"
      ]
     },
     "execution_count": 15,
     "metadata": {},
     "output_type": "execute_result"
    }
   ],
   "source": [
    "mean= car.MPG.mean()\n",
    "mean"
   ]
  },
  {
   "cell_type": "code",
   "execution_count": 16,
   "id": "5fadf0f1",
   "metadata": {
    "ExecuteTime": {
     "end_time": "2022-11-22T17:57:46.472563Z",
     "start_time": "2022-11-22T17:57:46.455577Z"
    }
   },
   "outputs": [
    {
     "data": {
      "text/plain": [
       "9.131444731795982"
      ]
     },
     "execution_count": 16,
     "metadata": {},
     "output_type": "execute_result"
    }
   ],
   "source": [
    "std = car.MPG.std()\n",
    "std"
   ]
  },
  {
   "cell_type": "code",
   "execution_count": 17,
   "id": "de8a430a",
   "metadata": {
    "ExecuteTime": {
     "end_time": "2022-11-22T18:11:00.539662Z",
     "start_time": "2022-11-22T18:11:00.516142Z"
    }
   },
   "outputs": [
    {
     "data": {
      "text/plain": [
       "0.6524060748417295"
      ]
     },
     "execution_count": 17,
     "metadata": {},
     "output_type": "execute_result"
    }
   ],
   "source": [
    "a = stats.norm.cdf(38, loc = mean, scale = std)\n",
    "a"
   ]
  },
  {
   "cell_type": "code",
   "execution_count": 20,
   "id": "c994f3bb",
   "metadata": {
    "ExecuteTime": {
     "end_time": "2022-11-22T18:11:25.633363Z",
     "start_time": "2022-11-22T18:11:25.572837Z"
    }
   },
   "outputs": [
    {
     "data": {
      "text/plain": [
       "0.3476"
      ]
     },
     "execution_count": 20,
     "metadata": {},
     "output_type": "execute_result"
    }
   ],
   "source": [
    "prob1 = 1- a\n",
    "prob1.round(4)"
   ]
  },
  {
   "cell_type": "code",
   "execution_count": 22,
   "id": "3d97d8cf",
   "metadata": {
    "ExecuteTime": {
     "end_time": "2022-11-22T18:14:51.219534Z",
     "start_time": "2022-11-22T18:14:51.203582Z"
    }
   },
   "outputs": [
    {
     "data": {
      "text/plain": [
       "0.7293"
      ]
     },
     "execution_count": 22,
     "metadata": {},
     "output_type": "execute_result"
    }
   ],
   "source": [
    "prob2 = stats.norm.cdf(40,loc = mean, scale = std)\n",
    "prob2.round(4)"
   ]
  },
  {
   "cell_type": "code",
   "execution_count": 23,
   "id": "0a815eea",
   "metadata": {
    "ExecuteTime": {
     "end_time": "2022-11-22T20:06:40.766693Z",
     "start_time": "2022-11-22T20:06:40.710326Z"
    }
   },
   "outputs": [
    {
     "data": {
      "text/plain": [
       "0.05712377632115936"
      ]
     },
     "execution_count": 23,
     "metadata": {},
     "output_type": "execute_result"
    }
   ],
   "source": [
    "b = stats.norm.cdf(20, loc = mean, scale = std)\n",
    "b"
   ]
  },
  {
   "cell_type": "code",
   "execution_count": 24,
   "id": "84960582",
   "metadata": {
    "ExecuteTime": {
     "end_time": "2022-11-22T20:07:09.215783Z",
     "start_time": "2022-11-22T20:07:09.194665Z"
    }
   },
   "outputs": [
    {
     "data": {
      "text/plain": [
       "0.955992693289364"
      ]
     },
     "execution_count": 24,
     "metadata": {},
     "output_type": "execute_result"
    }
   ],
   "source": [
    "c = stats.norm.cdf(50,loc = mean, scale = std)\n",
    "c"
   ]
  },
  {
   "cell_type": "code",
   "execution_count": 26,
   "id": "d4378436",
   "metadata": {
    "ExecuteTime": {
     "end_time": "2022-11-22T20:07:31.694278Z",
     "start_time": "2022-11-22T20:07:31.686058Z"
    }
   },
   "outputs": [
    {
     "data": {
      "text/plain": [
       "0.8989"
      ]
     },
     "execution_count": 26,
     "metadata": {},
     "output_type": "execute_result"
    }
   ],
   "source": [
    "prob3 = c -b\n",
    "prob3.round(4)"
   ]
  },
  {
   "cell_type": "markdown",
   "id": "9970964d",
   "metadata": {},
   "source": [
    "# Q21a"
   ]
  },
  {
   "cell_type": "code",
   "execution_count": 39,
   "id": "ee3b8d79",
   "metadata": {
    "ExecuteTime": {
     "end_time": "2022-11-23T04:46:46.630208Z",
     "start_time": "2022-11-23T04:46:45.832660Z"
    }
   },
   "outputs": [],
   "source": [
    "import matplotlib.pyplot as plt\n",
    "import seaborn as sns"
   ]
  },
  {
   "cell_type": "code",
   "execution_count": 31,
   "id": "257a56fd",
   "metadata": {
    "ExecuteTime": {
     "end_time": "2022-11-22T20:12:56.576220Z",
     "start_time": "2022-11-22T20:12:56.335388Z"
    },
    "scrolled": true
   },
   "outputs": [
    {
     "data": {
      "image/png": "[encoded data removed]",
      "text/plain": [
       "<Figure size 432x288 with 1 Axes>"
      ]
     },
     "metadata": {
      "needs_background": "light"
     },
     "output_type": "display_data"
    }
   ],
   "source": [
    "plt.hist(car.MPG);"
   ]
  },
  {
   "cell_type": "code",
   "execution_count": 40,
   "id": "796f773b",
   "metadata": {
    "ExecuteTime": {
     "end_time": "2022-11-23T04:47:06.322535Z",
     "start_time": "2022-11-23T04:47:05.916558Z"
    }
   },
   "outputs": [
    {
     "data": {
      "image/png": "[encoded data removed]",
      "text/plain": [
       "<Figure size 432x288 with 1 Axes>"
      ]
     },
     "metadata": {
      "needs_background": "light"
     },
     "output_type": "display_data"
    }
   ],
   "source": [
    "sns.distplot(car.MPG);"
   ]
  },
  {
   "cell_type": "markdown",
   "id": "0a30398a",
   "metadata": {},
   "source": [
    "# Q21 b"
   ]
  },
  {
   "cell_type": "code",
   "execution_count": 32,
   "id": "b3a04628",
   "metadata": {
    "ExecuteTime": {
     "end_time": "2022-11-23T04:37:31.880313Z",
     "start_time": "2022-11-23T04:37:31.867519Z"
    }
   },
   "outputs": [],
   "source": [
    "wc = pd.read_csv(\"C:\\\\Users\\\\sneha\\\\Downloads\\\\wc-at.csv\")"
   ]
  },
  {
   "cell_type": "code",
   "execution_count": 33,
   "id": "b688c75e",
   "metadata": {
    "ExecuteTime": {
     "end_time": "2022-11-23T04:37:38.066578Z",
     "start_time": "2022-11-23T04:37:38.046570Z"
    }
   },
   "outputs": [
    {
     "data": {
      "text/html": [
       "<div>\n",
       "<style scoped>\n",
       "    .dataframe tbody tr th:only-of-type {\n",
       "        vertical-align: middle;\n",
       "    }\n",
       "\n",
       "    .dataframe tbody tr th {\n",
       "        vertical-align: top;\n",
       "    }\n",
       "\n",
       "    .dataframe thead th {\n",
       "        text-align: right;\n",
       "    }\n",
       "</style>\n",
       "<table border=\"1\" class=\"dataframe\">\n",
       "  <thead>\n",
       "    <tr style=\"text-align: right;\">\n",
       "      <th></th>\n",
       "      <th>Waist</th>\n",
       "      <th>AT</th>\n",
       "    </tr>\n",
       "  </thead>\n",
       "  <tbody>\n",
       "    <tr>\n",
       "      <th>0</th>\n",
       "      <td>74.75</td>\n",
       "      <td>25.72</td>\n",
       "    </tr>\n",
       "    <tr>\n",
       "      <th>1</th>\n",
       "      <td>72.60</td>\n",
       "      <td>25.89</td>\n",
       "    </tr>\n",
       "    <tr>\n",
       "      <th>2</th>\n",
       "      <td>81.80</td>\n",
       "      <td>42.60</td>\n",
       "    </tr>\n",
       "  </tbody>\n",
       "</table>\n",
       "</div>"
      ],
      "text/plain": [
       "   Waist     AT\n",
       "0  74.75  25.72\n",
       "1  72.60  25.89\n",
       "2  81.80  42.60"
      ]
     },
     "execution_count": 33,
     "metadata": {},
     "output_type": "execute_result"
    }
   ],
   "source": [
    "wc.head(3)"
   ]
  },
  {
   "cell_type": "code",
   "execution_count": 35,
   "id": "88ae9274",
   "metadata": {
    "ExecuteTime": {
     "end_time": "2022-11-23T04:38:07.557454Z",
     "start_time": "2022-11-23T04:38:07.447350Z"
    }
   },
   "outputs": [
    {
     "data": {
      "text/html": [
       "<div>\n",
       "<style scoped>\n",
       "    .dataframe tbody tr th:only-of-type {\n",
       "        vertical-align: middle;\n",
       "    }\n",
       "\n",
       "    .dataframe tbody tr th {\n",
       "        vertical-align: top;\n",
       "    }\n",
       "\n",
       "    .dataframe thead th {\n",
       "        text-align: right;\n",
       "    }\n",
       "</style>\n",
       "<table border=\"1\" class=\"dataframe\">\n",
       "  <thead>\n",
       "    <tr style=\"text-align: right;\">\n",
       "      <th></th>\n",
       "      <th>Waist</th>\n",
       "      <th>AT</th>\n",
       "    </tr>\n",
       "  </thead>\n",
       "  <tbody>\n",
       "    <tr>\n",
       "      <th>count</th>\n",
       "      <td>109.000000</td>\n",
       "      <td>109.000000</td>\n",
       "    </tr>\n",
       "    <tr>\n",
       "      <th>mean</th>\n",
       "      <td>91.901835</td>\n",
       "      <td>101.894037</td>\n",
       "    </tr>\n",
       "    <tr>\n",
       "      <th>std</th>\n",
       "      <td>13.559116</td>\n",
       "      <td>57.294763</td>\n",
       "    </tr>\n",
       "    <tr>\n",
       "      <th>min</th>\n",
       "      <td>63.500000</td>\n",
       "      <td>11.440000</td>\n",
       "    </tr>\n",
       "    <tr>\n",
       "      <th>25%</th>\n",
       "      <td>80.000000</td>\n",
       "      <td>50.880000</td>\n",
       "    </tr>\n",
       "    <tr>\n",
       "      <th>50%</th>\n",
       "      <td>90.800000</td>\n",
       "      <td>96.540000</td>\n",
       "    </tr>\n",
       "    <tr>\n",
       "      <th>75%</th>\n",
       "      <td>104.000000</td>\n",
       "      <td>137.000000</td>\n",
       "    </tr>\n",
       "    <tr>\n",
       "      <th>max</th>\n",
       "      <td>121.000000</td>\n",
       "      <td>253.000000</td>\n",
       "    </tr>\n",
       "  </tbody>\n",
       "</table>\n",
       "</div>"
      ],
      "text/plain": [
       "            Waist          AT\n",
       "count  109.000000  109.000000\n",
       "mean    91.901835  101.894037\n",
       "std     13.559116   57.294763\n",
       "min     63.500000   11.440000\n",
       "25%     80.000000   50.880000\n",
       "50%     90.800000   96.540000\n",
       "75%    104.000000  137.000000\n",
       "max    121.000000  253.000000"
      ]
     },
     "execution_count": 35,
     "metadata": {},
     "output_type": "execute_result"
    }
   ],
   "source": [
    "wc.describe()"
   ]
  },
  {
   "cell_type": "code",
   "execution_count": 37,
   "id": "9eab19f1",
   "metadata": {
    "ExecuteTime": {
     "end_time": "2022-11-23T04:38:58.476180Z",
     "start_time": "2022-11-23T04:38:58.129731Z"
    }
   },
   "outputs": [
    {
     "data": {
      "image/png": "[encoded data removed]",
      "text/plain": [
       "<Figure size 432x288 with 1 Axes>"
      ]
     },
     "metadata": {
      "needs_background": "light"
     },
     "output_type": "display_data"
    }
   ],
   "source": [
    "plt.hist(wc.Waist);"
   ]
  },
  {
   "cell_type": "code",
   "execution_count": 44,
   "id": "a8603cea",
   "metadata": {
    "ExecuteTime": {
     "end_time": "2022-11-23T05:29:19.182884Z",
     "start_time": "2022-11-23T05:29:19.162485Z"
    }
   },
   "outputs": [
    {
     "data": {
      "text/plain": [
       "91.90183486238533"
      ]
     },
     "execution_count": 44,
     "metadata": {},
     "output_type": "execute_result"
    }
   ],
   "source": [
    "wc.Waist.mean()"
   ]
  },
  {
   "cell_type": "code",
   "execution_count": 45,
   "id": "fbbef01d",
   "metadata": {
    "ExecuteTime": {
     "end_time": "2022-11-23T05:29:31.825751Z",
     "start_time": "2022-11-23T05:29:31.761499Z"
    }
   },
   "outputs": [
    {
     "data": {
      "text/plain": [
       "90.8"
      ]
     },
     "execution_count": 45,
     "metadata": {},
     "output_type": "execute_result"
    }
   ],
   "source": [
    "wc.Waist.median()"
   ]
  },
  {
   "cell_type": "code",
   "execution_count": 46,
   "id": "640a15b0",
   "metadata": {
    "ExecuteTime": {
     "end_time": "2022-11-23T05:34:55.590866Z",
     "start_time": "2022-11-23T05:34:55.574117Z"
    }
   },
   "outputs": [
    {
     "data": {
      "text/plain": [
       "101.89403669724771"
      ]
     },
     "execution_count": 46,
     "metadata": {},
     "output_type": "execute_result"
    }
   ],
   "source": [
    "wc.AT.mean()"
   ]
  },
  {
   "cell_type": "code",
   "execution_count": 48,
   "id": "cbeb06ba",
   "metadata": {
    "ExecuteTime": {
     "end_time": "2022-11-23T05:35:16.001125Z",
     "start_time": "2022-11-23T05:35:15.979482Z"
    }
   },
   "outputs": [
    {
     "data": {
      "text/plain": [
       "96.54"
      ]
     },
     "execution_count": 48,
     "metadata": {},
     "output_type": "execute_result"
    }
   ],
   "source": [
    "wc.AT.median()"
   ]
  },
  {
   "cell_type": "code",
   "execution_count": 38,
   "id": "bfb328d8",
   "metadata": {
    "ExecuteTime": {
     "end_time": "2022-11-23T04:39:24.182417Z",
     "start_time": "2022-11-23T04:39:23.969718Z"
    }
   },
   "outputs": [
    {
     "data": {
      "image/png": "[encoded data removed]",
      "text/plain": [
       "<Figure size 432x288 with 1 Axes>"
      ]
     },
     "metadata": {
      "needs_background": "light"
     },
     "output_type": "display_data"
    }
   ],
   "source": [
    "plt.hist(wc.AT);"
   ]
  },
  {
   "cell_type": "code",
   "execution_count": 41,
   "id": "64c146ff",
   "metadata": {
    "ExecuteTime": {
     "end_time": "2022-11-23T04:48:20.151061Z",
     "start_time": "2022-11-23T04:48:19.920210Z"
    }
   },
   "outputs": [
    {
     "data": {
      "image/png": "[encoded data removed]",
      "text/plain": [
       "<Figure size 432x288 with 1 Axes>"
      ]
     },
     "metadata": {
      "needs_background": "light"
     },
     "output_type": "display_data"
    }
   ],
   "source": [
    "sns.distplot(wc.Waist);"
   ]
  },
  {
   "cell_type": "code",
   "execution_count": 42,
   "id": "1a164ce9",
   "metadata": {
    "ExecuteTime": {
     "end_time": "2022-11-23T04:48:37.781351Z",
     "start_time": "2022-11-23T04:48:37.532695Z"
    }
   },
   "outputs": [
    {
     "data": {
      "image/png": "[encoded data removed]",
      "text/plain": [
       "<Figure size 432x288 with 1 Axes>"
      ]
     },
     "metadata": {
      "needs_background": "light"
     },
     "output_type": "display_data"
    }
   ],
   "source": [
    "sns.distplot(wc.AT);"
   ]
  },
  {
   "cell_type": "code",
   "execution_count": 43,
   "id": "ef2bb1c9",
   "metadata": {
    "ExecuteTime": {
     "end_time": "2022-11-23T04:49:03.007239Z",
     "start_time": "2022-11-23T04:49:02.918042Z"
    }
   },
   "outputs": [
    {
     "data": {
      "image/png": "[encoded data removed]",
      "text/plain": [
       "<Figure size 432x288 with 1 Axes>"
      ]
     },
     "metadata": {
      "needs_background": "light"
     },
     "output_type": "display_data"
    }
   ],
   "source": [
    "sns.boxplot(wc.AT);"
   ]
  },
  {
   "cell_type": "markdown",
   "id": "777b3d5b",
   "metadata": {},
   "source": [
    "# Q22"
   ]
  },
  {
   "cell_type": "code",
   "execution_count": 54,
   "id": "a3dc6b6a",
   "metadata": {
    "ExecuteTime": {
     "end_time": "2022-11-23T05:39:59.137523Z",
     "start_time": "2022-11-23T05:39:59.124897Z"
    }
   },
   "outputs": [
    {
     "data": {
      "text/plain": [
       "1.6449"
      ]
     },
     "execution_count": 54,
     "metadata": {},
     "output_type": "execute_result"
    }
   ],
   "source": [
    "z1= np.round(stats.norm.ppf(0.95),4)\n",
    "z1"
   ]
  },
  {
   "cell_type": "code",
   "execution_count": 56,
   "id": "e9e29268",
   "metadata": {
    "ExecuteTime": {
     "end_time": "2022-11-23T05:40:22.541365Z",
     "start_time": "2022-11-23T05:40:22.527282Z"
    }
   },
   "outputs": [
    {
     "data": {
      "text/plain": [
       "1.8808"
      ]
     },
     "execution_count": 56,
     "metadata": {},
     "output_type": "execute_result"
    }
   ],
   "source": [
    "z2 = np.round(stats.norm.ppf(0.97),4)\n",
    "z2"
   ]
  },
  {
   "cell_type": "code",
   "execution_count": 57,
   "id": "b12f177e",
   "metadata": {
    "ExecuteTime": {
     "end_time": "2022-11-23T05:41:28.660727Z",
     "start_time": "2022-11-23T05:41:28.640473Z"
    }
   },
   "outputs": [
    {
     "data": {
      "text/plain": [
       "0.5244"
      ]
     },
     "execution_count": 57,
     "metadata": {},
     "output_type": "execute_result"
    }
   ],
   "source": [
    "z3 = np.round(stats.norm.ppf(0.70),4)\n",
    "z3"
   ]
  },
  {
   "cell_type": "code",
   "execution_count": 63,
   "id": "91f3a03e",
   "metadata": {
    "ExecuteTime": {
     "end_time": "2022-11-23T05:49:36.077541Z",
     "start_time": "2022-11-23T05:49:36.063256Z"
    }
   },
   "outputs": [
    {
     "data": {
      "text/plain": [
       "2.06"
      ]
     },
     "execution_count": 63,
     "metadata": {},
     "output_type": "execute_result"
    }
   ],
   "source": [
    "t1 = stats.t.ppf(0.975, df = 24)\n",
    "t1.round(2)"
   ]
  },
  {
   "cell_type": "code",
   "execution_count": 64,
   "id": "0fb2b7c2",
   "metadata": {
    "ExecuteTime": {
     "end_time": "2022-11-23T05:51:31.503226Z",
     "start_time": "2022-11-23T05:51:31.488642Z"
    }
   },
   "outputs": [
    {
     "data": {
      "text/plain": [
       "2.17"
      ]
     },
     "execution_count": 64,
     "metadata": {},
     "output_type": "execute_result"
    }
   ],
   "source": [
    "t2 = stats.t.ppf(0.98, df = 24)\n",
    "t2.round(2)"
   ]
  },
  {
   "cell_type": "code",
   "execution_count": 67,
   "id": "4368fe08",
   "metadata": {
    "ExecuteTime": {
     "end_time": "2022-11-23T05:54:19.215681Z",
     "start_time": "2022-11-23T05:54:19.208079Z"
    }
   },
   "outputs": [
    {
     "data": {
      "text/plain": [
       "2.8"
      ]
     },
     "execution_count": 67,
     "metadata": {},
     "output_type": "execute_result"
    }
   ],
   "source": [
    "t3 = stats.t.ppf(0.995, df = 24)\n",
    "t3.round(2)"
   ]
  },
  {
   "cell_type": "markdown",
   "id": "67f8a98c",
   "metadata": {},
   "source": [
    "# Q24"
   ]
  },
  {
   "cell_type": "code",
   "execution_count": 2,
   "id": "dd986d8c",
   "metadata": {
    "ExecuteTime": {
     "end_time": "2022-11-24T19:13:22.481805Z",
     "start_time": "2022-11-24T19:13:22.455870Z"
    }
   },
   "outputs": [],
   "source": [
    "t = (260-270)/ (90/np.sqrt(18))"
   ]
  },
  {
   "cell_type": "code",
   "execution_count": 5,
   "id": "f02ac7c7",
   "metadata": {
    "ExecuteTime": {
     "end_time": "2022-11-24T19:13:42.227313Z",
     "start_time": "2022-11-24T19:13:42.206735Z"
    }
   },
   "outputs": [
    {
     "data": {
      "text/plain": [
       "-0.4714"
      ]
     },
     "execution_count": 5,
     "metadata": {},
     "output_type": "execute_result"
    }
   ],
   "source": [
    "t1 = t.round(4)\n",
    "t1"
   ]
  },
  {
   "cell_type": "code",
   "execution_count": 8,
   "id": "34135111",
   "metadata": {
    "ExecuteTime": {
     "end_time": "2022-11-24T19:15:31.909369Z",
     "start_time": "2022-11-24T19:15:31.888444Z"
    }
   },
   "outputs": [
    {
     "data": {
      "text/plain": [
       "0.32167411684460556"
      ]
     },
     "execution_count": 8,
     "metadata": {},
     "output_type": "execute_result"
    }
   ],
   "source": [
    "stats.t.cdf(-0.4714, df = 17)"
   ]
  }
 ],
 "metadata": {
  "_draft": {
   "nbviewer_url": "https://gist.github.com/c505635c0cdd05fa266b62b8b6986f25"
  },
  "gist": {
   "data": {
    "description": "first assignment.ipynb",
    "public": true
   },
   "id": "c505635c0cdd05fa266b62b8b6986f25"
  },
  "kernelspec": {
   "display_name": "Python 3 (ipykernel)",
   "language": "python",
   "name": "python3"
  },
  "language_info": {
   "codemirror_mode": {
    "name": "ipython",
    "version": 3
   },
   "file_extension": ".py",
   "mimetype": "text/x-python",
   "name": "python",
   "nbconvert_exporter": "python",
   "pygments_lexer": "ipython3",
   "version": "3.9.7"
  }
 },
 "nbformat": 4,
 "nbformat_minor": 5
}
